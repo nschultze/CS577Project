{
 "cells": [
  {
   "cell_type": "markdown",
   "metadata": {},
   "source": [
    "Importing Libraries"
   ]
  },
  {
   "cell_type": "code",
   "execution_count": 1,
   "metadata": {},
   "outputs": [],
   "source": [
    "import tensorflow as tf\n",
    "from tensorflow import keras\n",
    "from tensorflow.keras.layers import Conv2D, MaxPooling2D, Flatten, Dense\n",
    "from tensorflow.keras.preprocessing.image import ImageDataGenerator\n",
    "import os\n",
    "import numpy as np\n",
    "from sklearn.metrics import accuracy_score, precision_score, recall_score, f1_score\n",
    "import matplotlib.pyplot as plt"
   ]
  },
  {
   "cell_type": "markdown",
   "metadata": {},
   "source": [
    "Importing the Training Data"
   ]
  },
  {
   "cell_type": "code",
   "execution_count": 2,
   "metadata": {},
   "outputs": [],
   "source": [
    "train_base_dir = 'train'\n",
    "\n",
    "classes = ['fire', 'nofire']\n",
    "\n",
    "fire_file_paths = []\n",
    "nofire_file_paths = []\n",
    "\n",
    "for class_name in classes:\n",
    "    class_dir = os.path.join(train_base_dir, class_name)\n",
    "    \n",
    "    if class_name == 'fire':\n",
    "        fire_subclasses = ['Both_smoke_and_fire', 'Smoke_from_fires']\n",
    "        for subclass_name in fire_subclasses:\n",
    "            subclass_dir = os.path.join(class_dir, subclass_name)\n",
    "            file_paths = [os.path.join(subclass_dir, file) for file in os.listdir(subclass_dir)]\n",
    "            fire_file_paths.extend(file_paths)\n",
    "    \n",
    "    elif class_name == 'nofire':\n",
    "        nofire_subclasses = ['Smoke_confounding_elements', 'Forested_areas_without_confounding_elements', 'Fire_confounding_elements']\n",
    "        for subclass_name in nofire_subclasses:\n",
    "            subclass_dir = os.path.join(class_dir, subclass_name)\n",
    "            file_paths = [os.path.join(subclass_dir, file) for file in os.listdir(subclass_dir)]\n",
    "            nofire_file_paths.extend(file_paths)"
   ]
  },
  {
   "cell_type": "markdown",
   "metadata": {},
   "source": [
    "Importing the Testing Data"
   ]
  },
  {
   "cell_type": "code",
   "execution_count": 3,
   "metadata": {},
   "outputs": [],
   "source": [
    "test_base_dir = 'test'\n",
    "\n",
    "classes = ['fire', 'nofire']\n",
    "\n",
    "fire_test_file_paths = []\n",
    "nofire_test_file_paths = []\n",
    "\n",
    "for class_name in classes:\n",
    "    class_dir = os.path.join(test_base_dir, class_name)\n",
    "    \n",
    "    if class_name == 'fire':\n",
    "        fire_subclasses = ['Both_smoke_and_fire', 'Smoke_from_fires']\n",
    "        for subclass_name in fire_subclasses:\n",
    "            subclass_dir = os.path.join(class_dir, subclass_name)\n",
    "            file_paths = [os.path.join(subclass_dir, file) for file in os.listdir(subclass_dir)]\n",
    "            fire_test_file_paths.extend(file_paths)\n",
    "    \n",
    "    elif class_name == 'nofire':\n",
    "        nofire_subclasses = ['Smoke_confounding_elements', 'Forested_areas_without_confounding_elements', 'Fire_confounding_elements']\n",
    "        for subclass_name in nofire_subclasses:\n",
    "            subclass_dir = os.path.join(class_dir, subclass_name)\n",
    "            file_paths = [os.path.join(subclass_dir, file) for file in os.listdir(subclass_dir)]\n",
    "            nofire_test_file_paths.extend(file_paths)"
   ]
  },
  {
   "cell_type": "markdown",
   "metadata": {},
   "source": [
    "Importing the Validation Data"
   ]
  },
  {
   "cell_type": "code",
   "execution_count": 4,
   "metadata": {},
   "outputs": [],
   "source": [
    "val_base_dir = 'val'\n",
    "\n",
    "classes = ['fire', 'nofire']\n",
    "\n",
    "fire_test_file_paths = []\n",
    "nofire_test_file_paths = []\n",
    "\n",
    "for class_name in classes:\n",
    "    class_dir = os.path.join(val_base_dir, class_name)\n",
    "    \n",
    "    if class_name == 'fire':\n",
    "        fire_subclasses = ['Both_smoke_and_fire', 'Smoke_from_fires']\n",
    "        for subclass_name in fire_subclasses:\n",
    "            subclass_dir = os.path.join(class_dir, subclass_name)\n",
    "            file_paths = [os.path.join(subclass_dir, file) for file in os.listdir(subclass_dir)]\n",
    "            fire_test_file_paths.extend(file_paths)\n",
    "    \n",
    "    elif class_name == 'nofire':\n",
    "        nofire_subclasses = ['Smoke_confounding_elements', 'Forested_areas_without_confounding_elements', 'Fire_confounding_elements']\n",
    "        for subclass_name in nofire_subclasses:\n",
    "            subclass_dir = os.path.join(class_dir, subclass_name)\n",
    "            file_paths = [os.path.join(subclass_dir, file) for file in os.listdir(subclass_dir)]\n",
    "            nofire_test_file_paths.extend(file_paths)"
   ]
  },
  {
   "cell_type": "markdown",
   "metadata": {},
   "source": [
    "Creating the CNN"
   ]
  },
  {
   "cell_type": "code",
   "execution_count": 5,
   "metadata": {},
   "outputs": [
    {
     "name": "stdout",
     "output_type": "stream",
     "text": [
      "Model: \"sequential\"\n",
      "_________________________________________________________________\n",
      " Layer (type)                Output Shape              Param #   \n",
      "=================================================================\n",
      " conv2d (Conv2D)             (None, 126, 126, 32)      896       \n",
      "                                                                 \n",
      " max_pooling2d (MaxPooling2  (None, 63, 63, 32)        0         \n",
      " D)                                                              \n",
      "                                                                 \n",
      " conv2d_1 (Conv2D)           (None, 61, 61, 64)        18496     \n",
      "                                                                 \n",
      " max_pooling2d_1 (MaxPoolin  (None, 30, 30, 64)        0         \n",
      " g2D)                                                            \n",
      "                                                                 \n",
      " conv2d_2 (Conv2D)           (None, 28, 28, 128)       73856     \n",
      "                                                                 \n",
      " max_pooling2d_2 (MaxPoolin  (None, 14, 14, 128)       0         \n",
      " g2D)                                                            \n",
      "                                                                 \n",
      " flatten (Flatten)           (None, 25088)             0         \n",
      "                                                                 \n",
      " dense (Dense)               (None, 128)               3211392   \n",
      "                                                                 \n",
      " dense_1 (Dense)             (None, 1)                 129       \n",
      "                                                                 \n",
      "=================================================================\n",
      "Total params: 3304769 (12.61 MB)\n",
      "Trainable params: 3304769 (12.61 MB)\n",
      "Non-trainable params: 0 (0.00 Byte)\n",
      "_________________________________________________________________\n"
     ]
    }
   ],
   "source": [
    "model = keras.Sequential([\n",
    "    Conv2D(32, (3, 3), activation='relu', input_shape=(128, 128, 3)),\n",
    "    MaxPooling2D((2, 2)),\n",
    "    \n",
    "    Conv2D(64, (3, 3), activation='relu'),\n",
    "    MaxPooling2D((2, 2)),\n",
    "    \n",
    "    # Convolutional layer 3\n",
    "    Conv2D(128, (3, 3), activation='relu'),\n",
    "    MaxPooling2D((2, 2)),\n",
    "    \n",
    "    Flatten(),\n",
    "    \n",
    "    Dense(128, activation='relu'),\n",
    "    Dense(1, activation='sigmoid')\n",
    "])\n",
    "\n",
    "model.compile(optimizer='adam', loss='binary_crossentropy', metrics=['accuracy'])\n",
    "model.summary()"
   ]
  },
  {
   "cell_type": "markdown",
   "metadata": {},
   "source": [
    "Image Generator"
   ]
  },
  {
   "cell_type": "code",
   "execution_count": 6,
   "metadata": {},
   "outputs": [
    {
     "name": "stdout",
     "output_type": "stream",
     "text": [
      "Found 1887 images belonging to 2 classes.\n",
      "Found 402 images belonging to 2 classes.\n"
     ]
    }
   ],
   "source": [
    "data_gen = ImageDataGenerator(\n",
    "    rescale=1.0 / 255.0,\n",
    "    rotation_range=20,\n",
    "    width_shift_range=0.2,\n",
    "    height_shift_range=0.2,\n",
    "    horizontal_flip=True\n",
    ")\n",
    "\n",
    "train_generator = data_gen.flow_from_directory(\n",
    "    'train',\n",
    "    target_size=(128, 128),\n",
    "    batch_size=32,\n",
    "    class_mode='binary'\n",
    ")\n",
    "\n",
    "val_data_gen = ImageDataGenerator(rescale=1.0 / 255.0)\n",
    "\n",
    "val_generator = data_gen.flow_from_directory(\n",
    "    'val',\n",
    "    target_size=(128, 128),\n",
    "    batch_size=32,\n",
    "    class_mode='binary',\n",
    "    shuffle=False\n",
    ")"
   ]
  },
  {
   "cell_type": "markdown",
   "metadata": {},
   "source": [
    "Compile and Train Model"
   ]
  },
  {
   "cell_type": "code",
   "execution_count": 7,
   "metadata": {},
   "outputs": [
    {
     "name": "stdout",
     "output_type": "stream",
     "text": [
      "Epoch 1/3\n",
      "11/59 [====>.........................] - ETA: 3:31 - loss: 0.6720 - accuracy: 0.5909"
     ]
    },
    {
     "name": "stderr",
     "output_type": "stream",
     "text": [
      "/Library/Frameworks/Python.framework/Versions/3.11/lib/python3.11/site-packages/PIL/Image.py:3157: DecompressionBombWarning: Image size (104688771 pixels) exceeds limit of 89478485 pixels, could be decompression bomb DOS attack.\n",
      "  warnings.warn(\n"
     ]
    },
    {
     "name": "stdout",
     "output_type": "stream",
     "text": [
      "43/59 [====================>.........] - ETA: 1:32 - loss: 0.6276 - accuracy: 0.6359"
     ]
    },
    {
     "name": "stderr",
     "output_type": "stream",
     "text": [
      "/Library/Frameworks/Python.framework/Versions/3.11/lib/python3.11/site-packages/PIL/Image.py:3157: DecompressionBombWarning: Image size (89747104 pixels) exceeds limit of 89478485 pixels, could be decompression bomb DOS attack.\n",
      "  warnings.warn(\n"
     ]
    },
    {
     "name": "stdout",
     "output_type": "stream",
     "text": [
      "59/59 [==============================] - 376s 6s/step - loss: 0.6057 - accuracy: 0.6486 - val_loss: 0.5269 - val_accuracy: 0.7015\n",
      "Epoch 2/3\n",
      "59/59 [==============================] - 795s 14s/step - loss: 0.5359 - accuracy: 0.7080 - val_loss: 0.5422 - val_accuracy: 0.7015\n",
      "Epoch 3/3\n",
      "59/59 [==============================] - 804s 14s/step - loss: 0.5129 - accuracy: 0.7361 - val_loss: 0.5564 - val_accuracy: 0.6841\n"
     ]
    },
    {
     "name": "stderr",
     "output_type": "stream",
     "text": [
      "/Library/Frameworks/Python.framework/Versions/3.11/lib/python3.11/site-packages/keras/src/engine/training.py:3000: UserWarning: You are saving your model as an HDF5 file via `model.save()`. This file format is considered legacy. We recommend using instead the native Keras format, e.g. `model.save('my_model.keras')`.\n",
      "  saving_api.save_model(\n"
     ]
    }
   ],
   "source": [
    "history = model.fit(train_generator, epochs=3, validation_data=val_generator)  # Adjust the number of epochs as needed\n",
    "\n",
    "model.save('simpleCNN.h5')  # Replace 'your_trained_model.h5' with your desired file name"
   ]
  },
  {
   "cell_type": "markdown",
   "metadata": {},
   "source": [
    "Testing the Model"
   ]
  },
  {
   "cell_type": "code",
   "execution_count": 8,
   "metadata": {},
   "outputs": [
    {
     "name": "stdout",
     "output_type": "stream",
     "text": [
      "Found 410 images belonging to 2 classes.\n",
      " 4/13 [========>.....................] - ETA: 29s"
     ]
    },
    {
     "name": "stderr",
     "output_type": "stream",
     "text": [
      "/Library/Frameworks/Python.framework/Versions/3.11/lib/python3.11/site-packages/PIL/Image.py:3157: DecompressionBombWarning: Image size (96631920 pixels) exceeds limit of 89478485 pixels, could be decompression bomb DOS attack.\n",
      "  warnings.warn(\n"
     ]
    },
    {
     "name": "stdout",
     "output_type": "stream",
     "text": [
      " 7/13 [===============>..............] - ETA: 22s"
     ]
    },
    {
     "name": "stderr",
     "output_type": "stream",
     "text": [
      "/Library/Frameworks/Python.framework/Versions/3.11/lib/python3.11/site-packages/PIL/Image.py:3157: DecompressionBombWarning: Image size (101859328 pixels) exceeds limit of 89478485 pixels, could be decompression bomb DOS attack.\n",
      "  warnings.warn(\n"
     ]
    },
    {
     "name": "stdout",
     "output_type": "stream",
     "text": [
      "10/13 [======================>.......] - ETA: 13s"
     ]
    },
    {
     "name": "stderr",
     "output_type": "stream",
     "text": [
      "/Library/Frameworks/Python.framework/Versions/3.11/lib/python3.11/site-packages/PIL/Image.py:3157: DecompressionBombWarning: Image size (94487082 pixels) exceeds limit of 89478485 pixels, could be decompression bomb DOS attack.\n",
      "  warnings.warn(\n"
     ]
    },
    {
     "name": "stdout",
     "output_type": "stream",
     "text": [
      "13/13 [==============================] - 60s 5s/step\n",
      "Test accuracy: 75.37%\n",
      "Test precision: 0.90\n",
      "Test recall: 0.67\n",
      "Test F1 Score: 0.77\n"
     ]
    }
   ],
   "source": [
    "model = keras.models.load_model('simpleCNN.h5')\n",
    "\n",
    "test_data_gen = ImageDataGenerator(rescale=1.0 / 255.0)\n",
    "\n",
    "test_generator = test_data_gen.flow_from_directory(\n",
    "    'test',\n",
    "    target_size=(128, 128),\n",
    "    batch_size=32,\n",
    "    class_mode='binary',\n",
    "    shuffle=False\n",
    ")\n",
    "\n",
    "test_pred = model.predict(test_generator)\n",
    "test_labels = test_generator.classes\n",
    "\n",
    "test_predictions = (test_pred > 0.5).astype(int)\n",
    "\n",
    "test_accuracy = accuracy_score(test_labels, test_predictions)\n",
    "test_precision = precision_score(test_labels, test_predictions)\n",
    "test_recall = recall_score(test_labels, test_predictions)\n",
    "test_f1_score = f1_score(test_labels, test_predictions)\n",
    "\n",
    "print(f'Test accuracy: {test_accuracy * 100:.2f}%')\n",
    "print(f'Test precision: {test_precision:.2f}')\n",
    "print(f'Test recall: {test_recall:.2f}')\n",
    "print(f'Test F1 Score: {test_f1_score:.2f}')"
   ]
  },
  {
   "cell_type": "markdown",
   "metadata": {},
   "source": [
    "Plotting Training and Validation Loss"
   ]
  },
  {
   "cell_type": "code",
   "execution_count": 9,
   "metadata": {},
   "outputs": [
    {
     "data": {
      "image/png": "[encoded data removed]",
      "text/plain": [
       "<Figure size 1200x400 with 1 Axes>"
      ]
     },
     "metadata": {},
     "output_type": "display_data"
    }
   ],
   "source": [
    "plt.figure(figsize=(12, 4))\n",
    "plt.subplot(1, 2, 1)\n",
    "plt.plot(history.history['loss'], label='Training Loss')\n",
    "plt.plot(history.history['val_loss'], label='Validation Loss')\n",
    "plt.xlabel('Epochs')\n",
    "plt.ylabel('Loss')\n",
    "plt.legend()\n",
    "plt.title('Training and Validation Loss')\n",
    "plt.show()"
   ]
  },
  {
   "cell_type": "markdown",
   "metadata": {},
   "source": [
    "Plotting Accuracy"
   ]
  },
  {
   "cell_type": "code",
   "execution_count": 10,
   "metadata": {},
   "outputs": [
    {
     "data": {
      "image/png": "[encoded data removed]",
      "text/plain": [
       "<Figure size 640x480 with 1 Axes>"
      ]
     },
     "metadata": {},
     "output_type": "display_data"
    }
   ],
   "source": [
    "plt.subplot(1, 2, 2)\n",
    "plt.plot(history.history['accuracy'], label='Training Accuracy')\n",
    "plt.plot(history.history['val_accuracy'], label='Validation Accuracy')\n",
    "plt.xlabel('Epochs')\n",
    "plt.ylabel('Accuracy')\n",
    "plt.legend()\n",
    "plt.title('Training and Validation Accuracy')\n",
    "plt.tight_layout()\n",
    "plt.show()"
   ]
  }
 ],
 "metadata": {
  "kernelspec": {
   "display_name": "Python 3",
   "language": "python",
   "name": "python3"
  },
  "language_info": {
   "codemirror_mode": {
    "name": "ipython",
    "version": 3
   },
   "file_extension": ".py",
   "mimetype": "text/x-python",
   "name": "python",
   "nbconvert_exporter": "python",
   "pygments_lexer": "ipython3",
   "version": "3.11.5"
  },
  "orig_nbformat": 4
 },
 "nbformat": 4,
 "nbformat_minor": 2
}
