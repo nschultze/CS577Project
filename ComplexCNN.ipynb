{
 "cells": [
  {
   "cell_type": "markdown",
   "metadata": {},
   "source": [
    "Importing Libraries"
   ]
  },
  {
   "cell_type": "code",
   "execution_count": null,
   "metadata": {},
   "outputs": [],
   "source": [
    "import tensorflow as tf\n",
    "from tensorflow import keras\n",
    "from tensorflow.keras.layers import Conv2D, MaxPooling2D, Flatten, Dense, Dropout\n",
    "from tensorflow.keras.preprocessing.image import ImageDataGenerator\n",
    "import os\n",
    "import numpy as np\n",
    "from sklearn.metrics import accuracy_score, precision_score, recall_score, f1_score\n",
    "import matplotlib.pyplot as plt"
   ]
  },
  {
   "cell_type": "markdown",
   "metadata": {},
   "source": [
    "Importing the Training Data"
   ]
  },
  {
   "cell_type": "code",
   "execution_count": null,
   "metadata": {},
   "outputs": [],
   "source": [
    "train_base_dir = 'train'\n",
    "\n",
    "classes = ['fire', 'nofire']\n",
    "\n",
    "fire_file_paths = []\n",
    "nofire_file_paths = []\n",
    "\n",
    "for class_name in classes:\n",
    "    class_dir = os.path.join(train_base_dir, class_name)\n",
    "    \n",
    "    if class_name == 'fire':\n",
    "        fire_subclasses = ['Both_smoke_and_fire', 'Smoke_from_fires']\n",
    "        for subclass_name in fire_subclasses:\n",
    "            subclass_dir = os.path.join(class_dir, subclass_name)\n",
    "            file_paths = [os.path.join(subclass_dir, file) for file in os.listdir(subclass_dir)]\n",
    "            fire_file_paths.extend(file_paths)\n",
    "    \n",
    "    elif class_name == 'nofire':\n",
    "        nofire_subclasses = ['Smoke_confounding_elements', 'Forested_areas_without_confounding_elements', 'Fire_confounding_elements']\n",
    "        for subclass_name in nofire_subclasses:\n",
    "            subclass_dir = os.path.join(class_dir, subclass_name)\n",
    "            file_paths = [os.path.join(subclass_dir, file) for file in os.listdir(subclass_dir)]\n",
    "            nofire_file_paths.extend(file_paths)"
   ]
  },
  {
   "cell_type": "markdown",
   "metadata": {},
   "source": [
    "Importing the Testing Data"
   ]
  },
  {
   "cell_type": "code",
   "execution_count": null,
   "metadata": {},
   "outputs": [],
   "source": [
    "test_base_dir = 'test'\n",
    "\n",
    "classes = ['fire', 'nofire']\n",
    "\n",
    "fire_test_file_paths = []\n",
    "nofire_test_file_paths = []\n",
    "\n",
    "for class_name in classes:\n",
    "    class_dir = os.path.join(test_base_dir, class_name)\n",
    "    \n",
    "    if class_name == 'fire':\n",
    "        fire_subclasses = ['Both_smoke_and_fire', 'Smoke_from_fires']\n",
    "        for subclass_name in fire_subclasses:\n",
    "            subclass_dir = os.path.join(class_dir, subclass_name)\n",
    "            file_paths = [os.path.join(subclass_dir, file) for file in os.listdir(subclass_dir)]\n",
    "            fire_test_file_paths.extend(file_paths)\n",
    "    \n",
    "    elif class_name == 'nofire':\n",
    "        nofire_subclasses = ['Smoke_confounding_elements', 'Forested_areas_without_confounding_elements', 'Fire_confounding_elements']\n",
    "        for subclass_name in nofire_subclasses:\n",
    "            subclass_dir = os.path.join(class_dir, subclass_name)\n",
    "            file_paths = [os.path.join(subclass_dir, file) for file in os.listdir(subclass_dir)]\n",
    "            nofire_test_file_paths.extend(file_paths)"
   ]
  },
  {
   "cell_type": "markdown",
   "metadata": {},
   "source": [
    "Importing the Validation Data"
   ]
  },
  {
   "cell_type": "code",
   "execution_count": null,
   "metadata": {},
   "outputs": [],
   "source": [
    "val_base_dir = 'val'\n",
    "\n",
    "classes = ['fire', 'nofire']\n",
    "\n",
    "fire_test_file_paths = []\n",
    "nofire_test_file_paths = []\n",
    "\n",
    "for class_name in classes:\n",
    "    class_dir = os.path.join(val_base_dir, class_name)\n",
    "    \n",
    "    if class_name == 'fire':\n",
    "        fire_subclasses = ['Both_smoke_and_fire', 'Smoke_from_fires']\n",
    "        for subclass_name in fire_subclasses:\n",
    "            subclass_dir = os.path.join(class_dir, subclass_name)\n",
    "            file_paths = [os.path.join(subclass_dir, file) for file in os.listdir(subclass_dir)]\n",
    "            fire_test_file_paths.extend(file_paths)\n",
    "    \n",
    "    elif class_name == 'nofire':\n",
    "        nofire_subclasses = ['Smoke_confounding_elements', 'Forested_areas_without_confounding_elements', 'Fire_confounding_elements']\n",
    "        for subclass_name in nofire_subclasses:\n",
    "            subclass_dir = os.path.join(class_dir, subclass_name)\n",
    "            file_paths = [os.path.join(subclass_dir, file) for file in os.listdir(subclass_dir)]\n",
    "            nofire_test_file_paths.extend(file_paths)"
   ]
  },
  {
   "cell_type": "markdown",
   "metadata": {},
   "source": [
    "Creating the CNN"
   ]
  },
  {
   "cell_type": "code",
   "execution_count": null,
   "metadata": {},
   "outputs": [],
   "source": [
    "# Define the CNN model\n",
    "model = keras.Sequential([\n",
    "    # Convolutional layer 1\n",
    "    Conv2D(64, (3, 3), activation='relu', input_shape=(128, 128, 3)),\n",
    "    MaxPooling2D((2, 2)),\n",
    "    \n",
    "    # Convolutional layer 2\n",
    "    Conv2D(128, (3, 3), activation='relu'),\n",
    "    MaxPooling2D((2, 2)),\n",
    "    \n",
    "    # Convolutional layer 3\n",
    "    Conv2D(256, (3, 3), activation='relu'),\n",
    "    MaxPooling2D((2, 2)),\n",
    "    \n",
    "    # Convolutional layer 4\n",
    "    Conv2D(512, (3, 3), activation='relu'),\n",
    "    MaxPooling2D((2, 2)),\n",
    "    \n",
    "    # Flatten the output for the fully connected layers\n",
    "    Flatten(),\n",
    "    \n",
    "    # Fully connected layers\n",
    "    Dense(512, activation='relu'),\n",
    "    Dropout(0.5),  # Add dropout for regularization\n",
    "    Dense(256, activation='relu'),\n",
    "    Dropout(0.3),  # Add dropout for regularization\n",
    "    Dense(1, activation='sigmoid')  # Output layer for binary classification\n",
    "])\n",
    "\n",
    "# Compile the model\n",
    "model.compile(optimizer='adam', loss='binary_crossentropy', metrics=['accuracy'])\n",
    "\n",
    "# You can print a summary of the model's architecture\n",
    "model.summary()"
   ]
  },
  {
   "cell_type": "markdown",
   "metadata": {},
   "source": [
    "Image Generator"
   ]
  },
  {
   "cell_type": "code",
   "execution_count": null,
   "metadata": {},
   "outputs": [],
   "source": [
    "data_gen = ImageDataGenerator(\n",
    "    rescale=1.0 / 255.0,\n",
    "    rotation_range=20,\n",
    "    width_shift_range=0.2,\n",
    "    height_shift_range=0.2,\n",
    "    horizontal_flip=True\n",
    ")\n",
    "\n",
    "train_generator = data_gen.flow_from_directory(\n",
    "    'train',\n",
    "    target_size=(128, 128),\n",
    "    batch_size=32,\n",
    "    class_mode='binary'\n",
    ")\n",
    "\n",
    "val_data_gen = ImageDataGenerator(rescale=1.0 / 255.0)\n",
    "\n",
    "val_generator = data_gen.flow_from_directory(\n",
    "    'val',\n",
    "    target_size=(128, 128),\n",
    "    batch_size=32,\n",
    "    class_mode='binary',\n",
    "    shuffle=False\n",
    ")"
   ]
  },
  {
   "cell_type": "markdown",
   "metadata": {},
   "source": [
    "Compile and Train Model"
   ]
  },
  {
   "cell_type": "code",
   "execution_count": null,
   "metadata": {},
   "outputs": [],
   "source": [
    "# Train the model on the training data\n",
    "history = model.fit(train_generator, epochs=3, validation_data=val_generator)  # Adjust the number of epochs as needed\n",
    "\n",
    "# Save the trained model to a file\n",
    "model.save('complexCNN.h5')  # Replace 'your_trained_model.h5' with your desired file name"
   ]
  },
  {
   "cell_type": "markdown",
   "metadata": {},
   "source": [
    "Testing the Model"
   ]
  },
  {
   "cell_type": "code",
   "execution_count": null,
   "metadata": {},
   "outputs": [],
   "source": [
    "# Load the saved model\n",
    "model = keras.models.load_model('complexCNN.h5')  # Replace with the path to your saved model\n",
    "\n",
    "# Define data augmentation parameters for testing (you can customize as needed)\n",
    "test_data_gen = ImageDataGenerator(rescale=1.0 / 255.0)\n",
    "\n",
    "# Create a data generator for testing\n",
    "test_generator = test_data_gen.flow_from_directory(\n",
    "    'test',  # Path to the 'test' directory\n",
    "    target_size=(128, 128),  # Input image dimensions\n",
    "    batch_size=32,\n",
    "    class_mode='binary',  # Binary classification (fire/nofire)\n",
    "    shuffle=False  # Don't shuffle the data for testing\n",
    ")\n",
    "\n",
    "# Evaluate the model on the testing data\n",
    "test_pred = model.predict(test_generator)\n",
    "test_labels = test_generator.classes\n",
    "\n",
    "# Convert probabilities to binary predictions (0 or 1)\n",
    "test_predictions = (test_pred > 0.5).astype(int)\n",
    "\n",
    "# Calculate accuracy, precision, recall, and F1 score\n",
    "test_accuracy = accuracy_score(test_labels, test_predictions)\n",
    "test_precision = precision_score(test_labels, test_predictions)\n",
    "test_recall = recall_score(test_labels, test_predictions)\n",
    "test_f1_score = f1_score(test_labels, test_predictions)\n",
    "\n",
    "print(f'Test accuracy: {test_accuracy * 100:.2f}%')\n",
    "print(f'Test precision: {test_precision:.2f}')\n",
    "print(f'Test recall: {test_recall:.2f}')\n",
    "print(f'Test F1 Score: {test_f1_score:.2f}')"
   ]
  },
  {
   "cell_type": "markdown",
   "metadata": {},
   "source": [
    "Plotting Training and Validation Loss"
   ]
  },
  {
   "cell_type": "code",
   "execution_count": null,
   "metadata": {},
   "outputs": [],
   "source": [
    "plt.figure(figsize=(12, 4))\n",
    "plt.subplot(1, 2, 1)\n",
    "plt.plot(history.history['loss'], label='Training Loss')\n",
    "plt.plot(history.history['val_loss'], label='Validation Loss')\n",
    "plt.xlabel('Epochs')\n",
    "plt.ylabel('Loss')\n",
    "plt.legend()\n",
    "plt.title('Training and Validation Loss')\n",
    "plt.show()"
   ]
  },
  {
   "cell_type": "markdown",
   "metadata": {},
   "source": [
    "Plotting Accuracy"
   ]
  },
  {
   "cell_type": "code",
   "execution_count": null,
   "metadata": {},
   "outputs": [],
   "source": [
    "plt.subplot(1, 2, 2)\n",
    "plt.plot(history.history['accuracy'], label='Training Accuracy')\n",
    "plt.plot(history.history['val_accuracy'], label='Validation Accuracy')\n",
    "plt.xlabel('Epochs')\n",
    "plt.ylabel('Accuracy')\n",
    "plt.legend()\n",
    "plt.title('Training and Validation Accuracy')\n",
    "plt.tight_layout()\n",
    "plt.show()"
   ]
  }
 ],
 "metadata": {
  "kernelspec": {
   "display_name": "Python 3",
   "language": "python",
   "name": "python3"
  },
  "language_info": {
   "codemirror_mode": {
    "name": "ipython",
    "version": 3
   },
   "file_extension": ".py",
   "mimetype": "text/x-python",
   "name": "python",
   "nbconvert_exporter": "python",
   "pygments_lexer": "ipython3",
   "version": "3.11.5"
  },
  "orig_nbformat": 4
 },
 "nbformat": 4,
 "nbformat_minor": 2
}
