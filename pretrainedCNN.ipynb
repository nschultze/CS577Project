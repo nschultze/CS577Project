{
 "cells": [
  {
   "cell_type": "markdown",
   "metadata": {},
   "source": [
    "Importing Libraries"
   ]
  },
  {
   "cell_type": "code",
   "execution_count": 1,
   "metadata": {},
   "outputs": [],
   "source": [
    "import tensorflow as tf\n",
    "from tensorflow import keras\n",
    "from tensorflow.keras.applications import VGG16\n",
    "from tensorflow.keras.layers import Dense, Flatten, Dropout\n",
    "from tensorflow.keras.preprocessing.image import ImageDataGenerator\n",
    "from tensorflow.keras.models import Model\n",
    "import os\n",
    "import numpy as np\n",
    "from sklearn.metrics import accuracy_score, precision_score, recall_score, f1_score\n",
    "import matplotlib.pyplot as plt"
   ]
  },
  {
   "cell_type": "markdown",
   "metadata": {},
   "source": [
    "Importing the Training Data"
   ]
  },
  {
   "cell_type": "code",
   "execution_count": 2,
   "metadata": {},
   "outputs": [],
   "source": [
    "train_base_dir = 'train'\n",
    "\n",
    "classes = ['fire', 'nofire']\n",
    "\n",
    "fire_file_paths = []\n",
    "nofire_file_paths = []\n",
    "\n",
    "for class_name in classes:\n",
    "    class_dir = os.path.join(train_base_dir, class_name)\n",
    "    \n",
    "    if class_name == 'fire':\n",
    "        fire_subclasses = ['Both_smoke_and_fire', 'Smoke_from_fires']\n",
    "        for subclass_name in fire_subclasses:\n",
    "            subclass_dir = os.path.join(class_dir, subclass_name)\n",
    "            file_paths = [os.path.join(subclass_dir, file) for file in os.listdir(subclass_dir)]\n",
    "            fire_file_paths.extend(file_paths)\n",
    "    \n",
    "    elif class_name == 'nofire':\n",
    "        nofire_subclasses = ['Smoke_confounding_elements', 'Forested_areas_without_confounding_elements', 'Fire_confounding_elements']\n",
    "        for subclass_name in nofire_subclasses:\n",
    "            subclass_dir = os.path.join(class_dir, subclass_name)\n",
    "            file_paths = [os.path.join(subclass_dir, file) for file in os.listdir(subclass_dir)]\n",
    "            nofire_file_paths.extend(file_paths)"
   ]
  },
  {
   "cell_type": "markdown",
   "metadata": {},
   "source": [
    "Importing the Testing Data"
   ]
  },
  {
   "cell_type": "code",
   "execution_count": 3,
   "metadata": {},
   "outputs": [],
   "source": [
    "test_base_dir = 'test'\n",
    "\n",
    "classes = ['fire', 'nofire']\n",
    "\n",
    "fire_test_file_paths = []\n",
    "nofire_test_file_paths = []\n",
    "\n",
    "for class_name in classes:\n",
    "    class_dir = os.path.join(test_base_dir, class_name)\n",
    "    \n",
    "    if class_name == 'fire':\n",
    "        fire_subclasses = ['Both_smoke_and_fire', 'Smoke_from_fires']\n",
    "        for subclass_name in fire_subclasses:\n",
    "            subclass_dir = os.path.join(class_dir, subclass_name)\n",
    "            file_paths = [os.path.join(subclass_dir, file) for file in os.listdir(subclass_dir)]\n",
    "            fire_test_file_paths.extend(file_paths)\n",
    "    \n",
    "    elif class_name == 'nofire':\n",
    "        nofire_subclasses = ['Smoke_confounding_elements', 'Forested_areas_without_confounding_elements', 'Fire_confounding_elements']\n",
    "        for subclass_name in nofire_subclasses:\n",
    "            subclass_dir = os.path.join(class_dir, subclass_name)\n",
    "            file_paths = [os.path.join(subclass_dir, file) for file in os.listdir(subclass_dir)]\n",
    "            nofire_test_file_paths.extend(file_paths)"
   ]
  },
  {
   "cell_type": "markdown",
   "metadata": {},
   "source": [
    "Importing the Validation Data"
   ]
  },
  {
   "cell_type": "code",
   "execution_count": 4,
   "metadata": {},
   "outputs": [],
   "source": [
    "val_base_dir = 'val'\n",
    "\n",
    "classes = ['fire', 'nofire']\n",
    "\n",
    "fire_test_file_paths = []\n",
    "nofire_test_file_paths = []\n",
    "\n",
    "for class_name in classes:\n",
    "    class_dir = os.path.join(val_base_dir, class_name)\n",
    "    \n",
    "    if class_name == 'fire':\n",
    "        fire_subclasses = ['Both_smoke_and_fire', 'Smoke_from_fires']\n",
    "        for subclass_name in fire_subclasses:\n",
    "            subclass_dir = os.path.join(class_dir, subclass_name)\n",
    "            file_paths = [os.path.join(subclass_dir, file) for file in os.listdir(subclass_dir)]\n",
    "            fire_test_file_paths.extend(file_paths)\n",
    "    \n",
    "    elif class_name == 'nofire':\n",
    "        nofire_subclasses = ['Smoke_confounding_elements', 'Forested_areas_without_confounding_elements', 'Fire_confounding_elements']\n",
    "        for subclass_name in nofire_subclasses:\n",
    "            subclass_dir = os.path.join(class_dir, subclass_name)\n",
    "            file_paths = [os.path.join(subclass_dir, file) for file in os.listdir(subclass_dir)]\n",
    "            nofire_test_file_paths.extend(file_paths)"
   ]
  },
  {
   "cell_type": "markdown",
   "metadata": {},
   "source": [
    "Importing the Pretrained CNN"
   ]
  },
  {
   "cell_type": "code",
   "execution_count": 5,
   "metadata": {},
   "outputs": [
    {
     "name": "stdout",
     "output_type": "stream",
     "text": [
      "Model: \"model\"\n",
      "_________________________________________________________________\n",
      " Layer (type)                Output Shape              Param #   \n",
      "=================================================================\n",
      " input_1 (InputLayer)        [(None, 128, 128, 3)]     0         \n",
      "                                                                 \n",
      " block1_conv1 (Conv2D)       (None, 128, 128, 64)      1792      \n",
      "                                                                 \n",
      " block1_conv2 (Conv2D)       (None, 128, 128, 64)      36928     \n",
      "                                                                 \n",
      " block1_pool (MaxPooling2D)  (None, 64, 64, 64)        0         \n",
      "                                                                 \n",
      " block2_conv1 (Conv2D)       (None, 64, 64, 128)       73856     \n",
      "                                                                 \n",
      " block2_conv2 (Conv2D)       (None, 64, 64, 128)       147584    \n",
      "                                                                 \n",
      " block2_pool (MaxPooling2D)  (None, 32, 32, 128)       0         \n",
      "                                                                 \n",
      " block3_conv1 (Conv2D)       (None, 32, 32, 256)       295168    \n",
      "                                                                 \n",
      " block3_conv2 (Conv2D)       (None, 32, 32, 256)       590080    \n",
      "                                                                 \n",
      " block3_conv3 (Conv2D)       (None, 32, 32, 256)       590080    \n",
      "                                                                 \n",
      " block3_pool (MaxPooling2D)  (None, 16, 16, 256)       0         \n",
      "                                                                 \n",
      " block4_conv1 (Conv2D)       (None, 16, 16, 512)       1180160   \n",
      "                                                                 \n",
      " block4_conv2 (Conv2D)       (None, 16, 16, 512)       2359808   \n",
      "                                                                 \n",
      " block4_conv3 (Conv2D)       (None, 16, 16, 512)       2359808   \n",
      "                                                                 \n",
      " block4_pool (MaxPooling2D)  (None, 8, 8, 512)         0         \n",
      "                                                                 \n",
      " block5_conv1 (Conv2D)       (None, 8, 8, 512)         2359808   \n",
      "                                                                 \n",
      " block5_conv2 (Conv2D)       (None, 8, 8, 512)         2359808   \n",
      "                                                                 \n",
      " block5_conv3 (Conv2D)       (None, 8, 8, 512)         2359808   \n",
      "                                                                 \n",
      " block5_pool (MaxPooling2D)  (None, 4, 4, 512)         0         \n",
      "                                                                 \n",
      " flatten (Flatten)           (None, 8192)              0         \n",
      "                                                                 \n",
      " dense (Dense)               (None, 128)               1048704   \n",
      "                                                                 \n",
      " dense_1 (Dense)             (None, 1)                 129       \n",
      "                                                                 \n",
      "=================================================================\n",
      "Total params: 15763521 (60.13 MB)\n",
      "Trainable params: 1048833 (4.00 MB)\n",
      "Non-trainable params: 14714688 (56.13 MB)\n",
      "_________________________________________________________________\n"
     ]
    }
   ],
   "source": [
    "# Load the VGG16 model with pre-trained weights and exclude the top (fully connected) layers\n",
    "pretrained_model = VGG16(weights='imagenet', include_top=False, input_shape=(128, 128, 3))\n",
    "\n",
    "# Freeze the layers of the pretrained model\n",
    "for layer in pretrained_model.layers:\n",
    "    layer.trainable = False\n",
    "\n",
    "# Create a custom head for binary classification\n",
    "x = Flatten()(pretrained_model.output)\n",
    "x = Dense(128, activation='relu')(x)\n",
    "output = Dense(1, activation='sigmoid')(x)\n",
    "\n",
    "# Combine the base model and the custom head\n",
    "model = Model(inputs=pretrained_model.input, outputs=output)\n",
    "\n",
    "# Compile the model\n",
    "model.compile(optimizer='adam', loss='binary_crossentropy', metrics=['accuracy'])\n",
    "\n",
    "# You can print a summary of the model's architecture\n",
    "model.summary()"
   ]
  },
  {
   "cell_type": "markdown",
   "metadata": {},
   "source": [
    "Image Generator"
   ]
  },
  {
   "cell_type": "code",
   "execution_count": 6,
   "metadata": {},
   "outputs": [
    {
     "name": "stdout",
     "output_type": "stream",
     "text": [
      "Found 1887 images belonging to 2 classes.\n",
      "Found 402 images belonging to 2 classes.\n"
     ]
    }
   ],
   "source": [
    "data_gen = ImageDataGenerator(\n",
    "    rescale=1.0 / 255.0,\n",
    "    rotation_range=20,\n",
    "    width_shift_range=0.2,\n",
    "    height_shift_range=0.2,\n",
    "    horizontal_flip=True\n",
    ")\n",
    "\n",
    "train_generator = data_gen.flow_from_directory(\n",
    "    'train',\n",
    "    target_size=(128, 128),\n",
    "    batch_size=32,\n",
    "    class_mode='binary'\n",
    ")\n",
    "\n",
    "val_data_gen = ImageDataGenerator(rescale=1.0 / 255.0)\n",
    "\n",
    "val_generator = data_gen.flow_from_directory(\n",
    "    'val',\n",
    "    target_size=(128, 128),\n",
    "    batch_size=32,\n",
    "    class_mode='binary',\n",
    "    shuffle=False\n",
    ")"
   ]
  },
  {
   "cell_type": "markdown",
   "metadata": {},
   "source": [
    "Compile and Train Model"
   ]
  },
  {
   "cell_type": "code",
   "execution_count": 7,
   "metadata": {},
   "outputs": [
    {
     "name": "stderr",
     "output_type": "stream",
     "text": [
      "/Library/Frameworks/Python.framework/Versions/3.11/lib/python3.11/site-packages/PIL/Image.py:3157: DecompressionBombWarning: Image size (104688771 pixels) exceeds limit of 89478485 pixels, could be decompression bomb DOS attack.\n",
      "  warnings.warn(\n"
     ]
    },
    {
     "name": "stdout",
     "output_type": "stream",
     "text": [
      "Epoch 1/3\n",
      "16/59 [=======>......................] - ETA: 5:46 - loss: 0.8781 - accuracy: 0.5508"
     ]
    },
    {
     "name": "stderr",
     "output_type": "stream",
     "text": [
      "/Library/Frameworks/Python.framework/Versions/3.11/lib/python3.11/site-packages/PIL/Image.py:3157: DecompressionBombWarning: Image size (89747104 pixels) exceeds limit of 89478485 pixels, could be decompression bomb DOS attack.\n",
      "  warnings.warn(\n"
     ]
    },
    {
     "name": "stdout",
     "output_type": "stream",
     "text": [
      "59/59 [==============================] - 412s 7s/step - loss: 0.5874 - accuracy: 0.7027 - val_loss: 0.5116 - val_accuracy: 0.7438\n",
      "Epoch 2/3\n",
      "59/59 [==============================] - 431s 7s/step - loss: 0.4217 - accuracy: 0.8129 - val_loss: 0.4705 - val_accuracy: 0.7687\n",
      "Epoch 3/3\n",
      "59/59 [==============================] - 324s 5s/step - loss: 0.3890 - accuracy: 0.8203 - val_loss: 0.4913 - val_accuracy: 0.7736\n"
     ]
    },
    {
     "name": "stderr",
     "output_type": "stream",
     "text": [
      "/Library/Frameworks/Python.framework/Versions/3.11/lib/python3.11/site-packages/keras/src/engine/training.py:3000: UserWarning: You are saving your model as an HDF5 file via `model.save()`. This file format is considered legacy. We recommend using instead the native Keras format, e.g. `model.save('my_model.keras')`.\n",
      "  saving_api.save_model(\n"
     ]
    }
   ],
   "source": [
    "# Train the model on the training data\n",
    "history = model.fit(train_generator, epochs=3, validation_data=val_generator)  # Adjust the number of epochs as needed\n",
    "\n",
    "# Save the trained model to a file\n",
    "model.save('pretrainedCNN.h5')  # Replace 'your_trained_model.h5' with your desired file name"
   ]
  },
  {
   "cell_type": "markdown",
   "metadata": {},
   "source": [
    "Testing the Model"
   ]
  },
  {
   "cell_type": "code",
   "execution_count": 8,
   "metadata": {},
   "outputs": [
    {
     "name": "stdout",
     "output_type": "stream",
     "text": [
      "Found 410 images belonging to 2 classes.\n",
      " 4/13 [========>.....................] - ETA: 31s"
     ]
    },
    {
     "name": "stderr",
     "output_type": "stream",
     "text": [
      "/Library/Frameworks/Python.framework/Versions/3.11/lib/python3.11/site-packages/PIL/Image.py:3157: DecompressionBombWarning: Image size (96631920 pixels) exceeds limit of 89478485 pixels, could be decompression bomb DOS attack.\n",
      "  warnings.warn(\n"
     ]
    },
    {
     "name": "stdout",
     "output_type": "stream",
     "text": [
      " 7/13 [===============>..............] - ETA: 23s"
     ]
    },
    {
     "name": "stderr",
     "output_type": "stream",
     "text": [
      "/Library/Frameworks/Python.framework/Versions/3.11/lib/python3.11/site-packages/PIL/Image.py:3157: DecompressionBombWarning: Image size (101859328 pixels) exceeds limit of 89478485 pixels, could be decompression bomb DOS attack.\n",
      "  warnings.warn(\n"
     ]
    },
    {
     "name": "stdout",
     "output_type": "stream",
     "text": [
      "10/13 [======================>.......] - ETA: 13s"
     ]
    },
    {
     "name": "stderr",
     "output_type": "stream",
     "text": [
      "/Library/Frameworks/Python.framework/Versions/3.11/lib/python3.11/site-packages/PIL/Image.py:3157: DecompressionBombWarning: Image size (94487082 pixels) exceeds limit of 89478485 pixels, could be decompression bomb DOS attack.\n",
      "  warnings.warn(\n"
     ]
    },
    {
     "name": "stdout",
     "output_type": "stream",
     "text": [
      "13/13 [==============================] - 62s 5s/step\n",
      "Test accuracy: 79.51%\n",
      "Test precision: 0.76\n",
      "Test recall: 0.98\n",
      "Test F1 Score: 0.85\n"
     ]
    }
   ],
   "source": [
    "# Load the saved model\n",
    "#model = keras.models.load_model('pretrainedCNN.h5')  # Replace with the path to your saved model\n",
    "\n",
    "# Define data augmentation parameters for testing (you can customize as needed)\n",
    "test_data_gen = ImageDataGenerator(rescale=1.0 / 255.0)\n",
    "\n",
    "# Create a data generator for testing\n",
    "test_generator = test_data_gen.flow_from_directory(\n",
    "    'test',  # Path to the 'test' directory\n",
    "    target_size=(128, 128),  # Input image dimensions\n",
    "    batch_size=32,\n",
    "    class_mode='binary',  # Binary classification (fire/nofire)\n",
    "    shuffle=False  # Don't shuffle the data for testing\n",
    ")\n",
    "\n",
    "# Evaluate the model on the testing data\n",
    "test_pred = model.predict(test_generator)\n",
    "test_labels = test_generator.classes\n",
    "\n",
    "# Convert probabilities to binary predictions (0 or 1)\n",
    "test_predictions = (test_pred > 0.5).astype(int)\n",
    "\n",
    "# Calculate accuracy, precision, recall, and F1 score\n",
    "test_accuracy = accuracy_score(test_labels, test_predictions)\n",
    "test_precision = precision_score(test_labels, test_predictions)\n",
    "test_recall = recall_score(test_labels, test_predictions)\n",
    "test_f1_score = f1_score(test_labels, test_predictions)\n",
    "\n",
    "print(f'Test accuracy: {test_accuracy * 100:.2f}%')\n",
    "print(f'Test precision: {test_precision:.2f}')\n",
    "print(f'Test recall: {test_recall:.2f}')\n",
    "print(f'Test F1 Score: {test_f1_score:.2f}')"
   ]
  },
  {
   "cell_type": "markdown",
   "metadata": {},
   "source": [
    "Plotting Training and Validation Loss"
   ]
  },
  {
   "cell_type": "code",
   "execution_count": 9,
   "metadata": {},
   "outputs": [
    {
     "data": {
      "image/png": "[encoded data removed]",
      "text/plain": [
       "<Figure size 1200x400 with 1 Axes>"
      ]
     },
     "metadata": {},
     "output_type": "display_data"
    }
   ],
   "source": [
    "plt.figure(figsize=(12, 4))\n",
    "plt.subplot(1, 2, 1)\n",
    "plt.plot(history.history['loss'], label='Training Loss')\n",
    "plt.plot(history.history['val_loss'], label='Validation Loss')\n",
    "plt.xlabel('Epochs')\n",
    "plt.ylabel('Loss')\n",
    "plt.legend()\n",
    "plt.title('Training and Validation Loss')\n",
    "plt.show()"
   ]
  },
  {
   "cell_type": "markdown",
   "metadata": {},
   "source": [
    "Plotting Accuracy"
   ]
  },
  {
   "cell_type": "code",
   "execution_count": 10,
   "metadata": {},
   "outputs": [
    {
     "data": {
      "image/png": "[encoded data removed]",
      "text/plain": [
       "<Figure size 640x480 with 1 Axes>"
      ]
     },
     "metadata": {},
     "output_type": "display_data"
    }
   ],
   "source": [
    "plt.subplot(1, 2, 2)\n",
    "plt.plot(history.history['accuracy'], label='Training Accuracy')\n",
    "plt.plot(history.history['val_accuracy'], label='Validation Accuracy')\n",
    "plt.xlabel('Epochs')\n",
    "plt.ylabel('Accuracy')\n",
    "plt.legend()\n",
    "plt.title('Training and Validation Accuracy')\n",
    "plt.tight_layout()\n",
    "plt.show()"
   ]
  }
 ],
 "metadata": {
  "kernelspec": {
   "display_name": "Python 3",
   "language": "python",
   "name": "python3"
  },
  "language_info": {
   "codemirror_mode": {
    "name": "ipython",
    "version": 3
   },
   "file_extension": ".py",
   "mimetype": "text/x-python",
   "name": "python",
   "nbconvert_exporter": "python",
   "pygments_lexer": "ipython3",
   "version": "3.11.5"
  },
  "orig_nbformat": 4
 },
 "nbformat": 4,
 "nbformat_minor": 2
}
